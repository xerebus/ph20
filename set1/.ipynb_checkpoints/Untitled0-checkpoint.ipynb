{
 "metadata": {
  "name": "",
  "signature": "sha256:56bf10d52b2b25c24ff0c68730fb48531b55fe42d530ea0d00e4f20d722fb334"
 },
 "nbformat": 3,
 "nbformat_minor": 0,
 "worksheets": []
}